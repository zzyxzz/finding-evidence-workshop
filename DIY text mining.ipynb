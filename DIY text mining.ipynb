{
 "cells": [
  {
   "cell_type": "code",
   "execution_count": 1,
   "metadata": {},
   "outputs": [],
   "source": [
    "%matplotlib inline\n",
    "import re"
   ]
  },
  {
   "cell_type": "markdown",
   "metadata": {},
   "source": [
    "# Finding Evidence Workshop"
   ]
  },
  {
   "cell_type": "markdown",
   "metadata": {},
   "source": [
    "## DIY Text Mining Session"
   ]
  },
  {
   "cell_type": "markdown",
   "metadata": {},
   "source": []
  },
  {
   "cell_type": "markdown",
   "metadata": {},
   "source": [
    "### 1. A Simple dictionary based text mining"
   ]
  },
  {
   "cell_type": "markdown",
   "metadata": {},
   "source": [
    "A dcitionary is a collection of terms."
   ]
  },
  {
   "cell_type": "code",
   "execution_count": null,
   "metadata": {},
   "outputs": [],
   "source": [
    "sample_dictionary = {'cancer', 'diabete', 'asthma'}"
   ]
  },
  {
   "cell_type": "markdown",
   "metadata": {},
   "source": [
    "We use a dictionary to find out whether a term appear in a give context."
   ]
  },
  {
   "cell_type": "code",
   "execution_count": 16,
   "metadata": {},
   "outputs": [],
   "source": [
    "sample_text = 'Cancer, diabete and asthma are diseases. Thanks for support from Cancer Research Organization.'"
   ]
  },
  {
   "cell_type": "markdown",
   "metadata": {},
   "source": [
    "We need a piece of magic to find the terms from a context."
   ]
  },
  {
   "cell_type": "code",
   "execution_count": 17,
   "metadata": {},
   "outputs": [],
   "source": [
    "def find_evidence_sample(dictionary, text):\n",
    "    \"\"\"\n",
    "    given a dictionary and a piece of text, find the evidence from the text\n",
    "    \"\"\"\n",
    "    for d in dictionary:\n",
    "        pattern = re.compile(re.escape(d))\n",
    "        matches = pattern.finditer(text)\n",
    "        if matches:\n",
    "            for m in matches:\n",
    "                print(m)"
   ]
  },
  {
   "cell_type": "markdown",
   "metadata": {},
   "source": [
    "Let's run the codes and see what happens."
   ]
  },
  {
   "cell_type": "code",
   "execution_count": 18,
   "metadata": {},
   "outputs": [
    {
     "name": "stdout",
     "output_type": "stream",
     "text": [
      "<_sre.SRE_Match object; span=(8, 15), match='diabete'>\n",
      "<_sre.SRE_Match object; span=(20, 26), match='asthma'>\n"
     ]
    }
   ],
   "source": [
    "find_evidence_sample(sample_dictionary, sample_text)"
   ]
  },
  {
   "cell_type": "markdown",
   "metadata": {},
   "source": [
    "\"Cancer\" with a capital 'C' is missing. Let's convert all the words to lowercase."
   ]
  },
  {
   "cell_type": "code",
   "execution_count": 19,
   "metadata": {},
   "outputs": [
    {
     "name": "stdout",
     "output_type": "stream",
     "text": [
      "<_sre.SRE_Match object; span=(8, 15), match='diabete'>\n",
      "<_sre.SRE_Match object; span=(20, 26), match='asthma'>\n",
      "<_sre.SRE_Match object; span=(0, 6), match='cancer'>\n",
      "<_sre.SRE_Match object; span=(65, 71), match='cancer'>\n"
     ]
    }
   ],
   "source": [
    "find_evidence_sample(sample_dictionary, sample_text.lower())"
   ]
  },
  {
   "cell_type": "markdown",
   "metadata": {},
   "source": [
    "All the \"cancer\" in the text are identified, however, we don't want the \"Cancer\" in \"Cancer Research Organization\" to be identified. What can we do? Let's refine our dictionary."
   ]
  },
  {
   "cell_type": "code",
   "execution_count": 40,
   "metadata": {},
   "outputs": [],
   "source": [
    "sample_dictionary_refined = {'cancer': {'exclude': {'post':{'organization'}}}, 'diabete':{}, 'asthma':{}}"
   ]
  },
  {
   "cell_type": "code",
   "execution_count": 54,
   "metadata": {},
   "outputs": [],
   "source": [
    "def check_exclude(dictionary, text):\n",
    "    if 'post' in dictionary:\n",
    "        for exclude in dictionary['post']:\n",
    "            exclude_pattern = re.compile(re.escape(exclude))\n",
    "            print(exclude, text)\n",
    "            if exclude_pattern.search(text):\n",
    "                return True\n",
    "            else:\n",
    "                return False\n",
    "    \n",
    "def find_evidence_refined(dictionary, text, chars_len=30):\n",
    "    evidences = []\n",
    "    for d in dictionary:\n",
    "        pattern = re.compile(re.escape(d))\n",
    "        matches = pattern.finditer(text)\n",
    "        if matches:\n",
    "            for m in matches:\n",
    "                start,end = m.span(0)\n",
    "                print(m)\n",
    "                if 'exclude' in dictionary[d]:\n",
    "                    exclude = check_exclude(dictionary[d]['exclude'], text[end:end+chars_len])\n",
    "                    if exclude:\n",
    "                        continue\n",
    "                evidences.append(m)\n",
    "    print(evidences)\n"
   ]
  },
  {
   "cell_type": "code",
   "execution_count": 55,
   "metadata": {},
   "outputs": [
    {
     "name": "stdout",
     "output_type": "stream",
     "text": [
      "<_sre.SRE_Match object; span=(0, 6), match='cancer'>\n",
      "organization , diabete and asthma are disea\n",
      "<_sre.SRE_Match object; span=(65, 71), match='cancer'>\n",
      "organization  research organization.\n",
      "<_sre.SRE_Match object; span=(8, 15), match='diabete'>\n",
      "<_sre.SRE_Match object; span=(20, 26), match='asthma'>\n",
      "[<_sre.SRE_Match object; span=(0, 6), match='cancer'>, <_sre.SRE_Match object; span=(8, 15), match='diabete'>, <_sre.SRE_Match object; span=(20, 26), match='asthma'>]\n"
     ]
    }
   ],
   "source": [
    "find_evidence_refined(sample_dictionary_refined, sample_text.lower())"
   ]
  },
  {
   "cell_type": "markdown",
   "metadata": {},
   "source": [
    "### Improved version"
   ]
  },
  {
   "cell_type": "code",
   "execution_count": null,
   "metadata": {},
   "outputs": [],
   "source": []
  }
 ],
 "metadata": {
  "kernelspec": {
   "display_name": "Python 3",
   "language": "python",
   "name": "python3"
  },
  "language_info": {
   "codemirror_mode": {
    "name": "ipython",
    "version": 3
   },
   "file_extension": ".py",
   "mimetype": "text/x-python",
   "name": "python",
   "nbconvert_exporter": "python",
   "pygments_lexer": "ipython3",
   "version": "3.6.9"
  }
 },
 "nbformat": 4,
 "nbformat_minor": 4
}
