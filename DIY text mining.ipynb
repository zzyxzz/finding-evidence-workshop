{
 "cells": [
  {
   "cell_type": "code",
   "execution_count": 1,
   "metadata": {},
   "outputs": [],
   "source": [
    "import re"
   ]
  },
  {
   "cell_type": "markdown",
   "metadata": {},
   "source": [
    "# Finding Evidence Workshop"
   ]
  },
  {
   "cell_type": "markdown",
   "metadata": {},
   "source": [
    "## DIY Text Mining Session"
   ]
  },
  {
   "cell_type": "markdown",
   "metadata": {},
   "source": [
    "In this session, we learn how a dictionary-based text mining works to find the entity from publications. At the first, we define a simple dictionary and find them in the publications. As problems arose, we will improve our dictionary step by step."
   ]
  },
  {
   "cell_type": "markdown",
   "metadata": {},
   "source": [
    "## 1. A Simple dictionary based text mining"
   ]
  },
  {
   "cell_type": "markdown",
   "metadata": {},
   "source": [
    "Dictionary based text mining usually uses Regular Expressions to capture text patterns. Regular expression is a language for specifying text search strings. They are particularly useful for searching in texts, when we have a pattern to search for and a corpus of texts to search through. A regular expression search function will search through the corpus, returning all texts that match the pattern. Below are some examples of regular expressions.\n",
    "\n",
    "<img src=\"img/regex_examples.png\" width=\"500\"/>\n",
    "\n",
    "By describing the text pattern, we can extract wanted texts from the corpus. Therefore, we need a dictionary to define the pattern. Let's have a look at a simple dictionary below.\n",
    "\n",
    "##### A dcitionary is a collection of terms."
   ]
  },
  {
   "cell_type": "code",
   "execution_count": 2,
   "metadata": {},
   "outputs": [],
   "source": [
    "sample_dictionary = {'cancer', 'diabete', 'asthma'}"
   ]
  },
  {
   "cell_type": "markdown",
   "metadata": {},
   "source": [
    "##### We use a dictionary to find out whether a term appear in a give sample text."
   ]
  },
  {
   "cell_type": "code",
   "execution_count": 3,
   "metadata": {},
   "outputs": [],
   "source": [
    "sample_text = 'Cancer, diabete and asthma are diseases. Retrospective analysis carried out with NCBI GEO \"Analyze Dataset\" tool of the study GDS1695. Thanks for support from Cancer Research Organization.'"
   ]
  },
  {
   "cell_type": "markdown",
   "metadata": {},
   "source": [
    "##### We need a piece of magic to find the terms from a context. This piece of codes will go through the sample text and check wehther the word in the dictionary actually appears in the sample text. \n",
    "\n",
    "If it does appear in the sample text, then keep a record of its location in the sample text. "
   ]
  },
  {
   "cell_type": "code",
   "execution_count": 4,
   "metadata": {},
   "outputs": [],
   "source": [
    "def print_evidences(evidences, text):\n",
    "    char_lens = 20\n",
    "    for evidence in evidences:\n",
    "        start,end = evidence.span(0)\n",
    "        pre_start = max(0, start-char_lens)\n",
    "        pre = text[pre_start:start]\n",
    "        post = text[end:end+char_lens]\n",
    "        print(f\"one evidence found: '{evidence.group(0)}', with pre: '{pre}' and post: '{post}'\")\n",
    "    \n",
    "def find_evidence_sample(dictionary, text):\n",
    "    \"\"\"\n",
    "    given a dictionary and a piece of text, find the evidence from the text\n",
    "    \"\"\"\n",
    "    evidences = []\n",
    "    for d in dictionary:\n",
    "        pattern = re.compile(re.escape(d))\n",
    "        matches = pattern.finditer(text)\n",
    "        if matches:\n",
    "            for m in matches:\n",
    "                evidences.append(m)\n",
    "    print_evidences(evidences, text)\n",
    "    "
   ]
  },
  {
   "cell_type": "markdown",
   "metadata": {},
   "source": [
    "##### Let's run the codes and see what happens. You may notice that we keep a note about a few characters befroe and after the match i.e. `pre` and `post`.\n",
    "\n",
    "<img src=\"img/match.png\" width=\"500\"/>"
   ]
  },
  {
   "cell_type": "code",
   "execution_count": 5,
   "metadata": {},
   "outputs": [
    {
     "name": "stdout",
     "output_type": "stream",
     "text": [
      "one evidence found: 'diabete', with pre: 'Cancer, ' and post: ' and asthma are dise'\n",
      "one evidence found: 'asthma', with pre: 'Cancer, diabete and ' and post: ' are diseases. Retro'\n"
     ]
    }
   ],
   "source": [
    "find_evidence_sample(sample_dictionary, sample_text)"
   ]
  },
  {
   "cell_type": "markdown",
   "metadata": {},
   "source": [
    "##### We successfully found 'diabete' and 'asthma' in the text. However, \"Cancer\" with a capital 'C' is missing because we only have lowercased \"cancer\" in our dictionary. It's case sensitive.\n",
    "\n",
    "It seems we need to either lowercase the sample text, add another word 'Cancer' to the dictionary or tell regular expression to ignore cases. Let's convert the sample text to lowercase (simply use `sample_text.lower()`) and try it again."
   ]
  },
  {
   "cell_type": "code",
   "execution_count": 6,
   "metadata": {},
   "outputs": [
    {
     "name": "stdout",
     "output_type": "stream",
     "text": [
      "one evidence found: 'cancer', with pre: '' and post: ', diabete and asthma'\n",
      "one evidence found: 'cancer', with pre: 'ks for support from ' and post: ' research organizati'\n",
      "one evidence found: 'diabete', with pre: 'cancer, ' and post: ' and asthma are dise'\n",
      "one evidence found: 'asthma', with pre: 'cancer, diabete and ' and post: ' are diseases. retro'\n"
     ]
    }
   ],
   "source": [
    "find_evidence_sample(sample_dictionary, sample_text.lower())"
   ]
  },
  {
   "cell_type": "markdown",
   "metadata": {},
   "source": [
    "## 2. Improved version"
   ]
  },
  {
   "cell_type": "markdown",
   "metadata": {},
   "source": [
    "From the above section, you can easily notice that all the \"cancer\" in the sample text are identified, however, we don't want the \"Cancer\" in \"Cancer Research Organization\" to be identified. What can we do? \n",
    "\n",
    "A simple strategy is to validate the match by looking at the surrounding words. For example, if we find 'organisation' after 'cancer', we discard the match. \n",
    "\n",
    "<img src=\"img/match.png\" width=\"500\"/>\n",
    "\n",
    "This is a heuristic approach and requires some sense of domain knowledge to make the constraints as accurate as possible. Let's improve our dictionary by looking at the words afte the match."
   ]
  },
  {
   "cell_type": "code",
   "execution_count": 7,
   "metadata": {},
   "outputs": [],
   "source": [
    "sample_dictionary_refined = {'cancer': {'exclude': {'post':{'organization'}}}, 'diabete':{}, 'asthma':{}}"
   ]
  },
  {
   "cell_type": "markdown",
   "metadata": {},
   "source": [
    "In the refined dictionary, we added `exclude` to `cancer` for validation. `post` means look at the context after the match and `pre` means look at the context before the match. \n",
    "\n",
    "In this case, if 'organization' appears in the context after, we invalidate and ignore the match."
   ]
  },
  {
   "cell_type": "code",
   "execution_count": 8,
   "metadata": {},
   "outputs": [],
   "source": [
    "def check_exclude(dictionary, context, direction):\n",
    "    \"\"\"\n",
    "    Given a context and a dictionary, validate the entity if \n",
    "    any of words in the dictionar don't appear in the context \n",
    "    \"\"\"\n",
    "    if direction not in ('pre', 'post'):\n",
    "        raise ValueError(f\"directions must be 'pre' or 'post' but get '{direction}'\")\n",
    "    for exclude in dictionary[direction]:\n",
    "        exclude_pattern = re.compile(re.escape(exclude))\n",
    "        if exclude_pattern.search(context):\n",
    "            return True\n",
    "    return False\n",
    "    \n",
    "def find_evidence_refined(dictionary, text, chars_len=30):\n",
    "    \"\"\"\n",
    "    given a dictionary and a piece of text, find the evidence from the text\n",
    "    \"\"\"\n",
    "    evidences = []\n",
    "    for d in dictionary:\n",
    "        pattern = re.compile(re.escape(d))\n",
    "        matches = pattern.finditer(text)\n",
    "        if matches:\n",
    "            for m in matches:\n",
    "                start,end = m.span(0)\n",
    "                if 'exclude' in dictionary[d] and dictionary[d]['exclude']:\n",
    "                    if 'pre' in dictionary[d]['exclude'] and dictionary[d]['exclude']['pre']:  \n",
    "                        exclude = check_exclude(dictionary[d]['exclude'], text[end:end+chars_len], direction='pre')\n",
    "                        if exclude:\n",
    "                            print(\"skip this entity\")\n",
    "                            continue\n",
    "                    if 'post' in dictionary[d]['exclude'] and dictionary[d]['exclude']['post']:\n",
    "                        exclude = check_exclude(dictionary[d]['exclude'], text[end:end+chars_len], direction='post')\n",
    "                        if exclude:\n",
    "                            print(\"skip this entity\")\n",
    "                            continue\n",
    "                evidences.append(m)\n",
    "    print_evidences(evidences, text)"
   ]
  },
  {
   "cell_type": "markdown",
   "metadata": {},
   "source": [
    "##### We can also exclude an entity by looking at the context before the words. \n",
    "\n",
    "If we try it again, we can see that, one match has been ignored because it hits the `exclude` rule. "
   ]
  },
  {
   "cell_type": "code",
   "execution_count": 9,
   "metadata": {},
   "outputs": [
    {
     "name": "stdout",
     "output_type": "stream",
     "text": [
      "skip this entity\n",
      "one evidence found: 'cancer', with pre: '' and post: ', diabete and asthma'\n",
      "one evidence found: 'diabete', with pre: 'cancer, ' and post: ' and asthma are dise'\n",
      "one evidence found: 'asthma', with pre: 'cancer, diabete and ' and post: ' are diseases. retro'\n"
     ]
    }
   ],
   "source": [
    "find_evidence_refined(sample_dictionary_refined, sample_text.lower())"
   ]
  },
  {
   "cell_type": "markdown",
   "metadata": {},
   "source": [
    "## 3. Final optional version\n",
    "To vaildate an entity, we can also check whether certain words appear in the `pre` and `post` contexts. This is useful for accession numbers as they sometimes clash with some random numbers in the publications."
   ]
  },
  {
   "cell_type": "code",
   "execution_count": 10,
   "metadata": {},
   "outputs": [],
   "source": [
    "sample_dictionary_final = {\n",
    "    'cancer': {'exclude': {'post':{'organization'}}}, \n",
    "    'diabete':{}, \n",
    "    'asthma': {},\n",
    "    'gds1695': {'include': {'pre': {'geo'}}}\n",
    "}"
   ]
  },
  {
   "cell_type": "code",
   "execution_count": 11,
   "metadata": {},
   "outputs": [],
   "source": [
    "def check_exclude(dictionary, context, direction):\n",
    "    \"\"\"\n",
    "    Given a context and a dictionary, validate the entity if \n",
    "    words in the dictionary don't appear in the context \n",
    "    \"\"\"\n",
    "    if direction not in ('pre', 'post'):\n",
    "        raise ValueError(f\"directions must be 'pre' or 'post' but get '{direction}'\")\n",
    "    for exclude in dictionary[direction]:\n",
    "        exclude_pattern = re.compile(re.escape(exclude))\n",
    "        if exclude_pattern.search(context):\n",
    "            return True\n",
    "    return False\n",
    "\n",
    "def check_include(dictionary, context, direction):\n",
    "    \"\"\"\n",
    "    Given a context and a dictionary, validate the entity if \n",
    "    any of words in the dictionary indeed appear in the context \n",
    "    \"\"\"\n",
    "    if direction not in ('pre', 'post'):\n",
    "        raise ValueError(f\"directions must be 'pre' or 'post' but get '{direction}'\")\n",
    "    for include in dictionary[direction]:\n",
    "        include_pattern = re.compile(re.escape(include))\n",
    "        if include_pattern.search(context):\n",
    "            return True\n",
    "    return False\n",
    "\n",
    "def find_evidence_final(dictionary, text, chars_len=30):\n",
    "    \"\"\"\n",
    "    given a dictionary and a piece of text, find the evidence from the text\n",
    "    \"\"\"\n",
    "    evidences = []\n",
    "    for d in dictionary:\n",
    "        pattern = re.compile(re.escape(d))\n",
    "        matches = pattern.finditer(text)\n",
    "        for m in matches:\n",
    "            start,end = m.span(0)\n",
    "            \"\"\"validate if words not in the context\"\"\"\n",
    "            if 'exclude' in dictionary[d] and dictionary[d]['exclude']:\n",
    "                if 'pre' in dictionary[d]['exclude'] and dictionary[d]['exclude']['pre']:  \n",
    "                    exclude = check_exclude(dictionary[d]['exclude'], text[end:end+chars_len], direction='pre')\n",
    "                    if exclude:\n",
    "                        print(f\"skip this entity: {m}\")\n",
    "                        continue\n",
    "                if 'post' in dictionary[d]['exclude'] and dictionary[d]['exclude']['post']:\n",
    "                    exclude = check_exclude(dictionary[d]['exclude'], text[end:end+chars_len], direction='post')\n",
    "                    if exclude:\n",
    "                        print(f\"skip this entity: {m}\")\n",
    "                        continue\n",
    "            \"\"\"validate if words in the context \"\"\"\n",
    "            if 'include' in dictionary[d] and dictionary[d]['include']:\n",
    "                context_start = max(0,start-chars_len)\n",
    "                if 'pre' in dictionary[d]['include'] and dictionary[d]['include']['pre']:  \n",
    "                    include = check_include(dictionary[d]['include'], text[context_start:start], direction='pre')\n",
    "                    if not include:\n",
    "                        print(f\"skip this entity: {m}\")\n",
    "                        continue\n",
    "                if 'post' in dictionary[d]['include'] and dictionary[d]['include']['post']:  \n",
    "                    include = check_include(dictionary[d]['include'], text[context_start:start], direction='post')\n",
    "                    if not include:\n",
    "                        print(f\"skip this entity: {m}\")\n",
    "                        continue\n",
    "            evidences.append(m)\n",
    "    print_evidences(evidences, text)"
   ]
  },
  {
   "cell_type": "markdown",
   "metadata": {},
   "source": [
    "Let's try ths version. Fianlly, we get the GEO accession numbers as well by check the present of 'GEO' ahead of the match."
   ]
  },
  {
   "cell_type": "code",
   "execution_count": 12,
   "metadata": {},
   "outputs": [
    {
     "name": "stdout",
     "output_type": "stream",
     "text": [
      "skip this entity: <_sre.SRE_Match object; span=(159, 165), match='cancer'>\n",
      "one evidence found: 'cancer', with pre: '' and post: ', diabete and asthma'\n",
      "one evidence found: 'diabete', with pre: 'cancer, ' and post: ' and asthma are dise'\n",
      "one evidence found: 'asthma', with pre: 'cancer, diabete and ' and post: ' are diseases. retro'\n",
      "one evidence found: 'gds1695', with pre: '\" tool of the study ' and post: '. thanks for support'\n"
     ]
    }
   ],
   "source": [
    "find_evidence_final(sample_dictionary_final, sample_text.lower(), chars_len=40)"
   ]
  },
  {
   "cell_type": "markdown",
   "metadata": {},
   "source": [
    "## 4. Run your own dictionary"
   ]
  },
  {
   "cell_type": "markdown",
   "metadata": {},
   "source": [
    "We have prepared 4 articles for you to try dictionary based text mining.\n",
    "\n",
    "[Sharing and reusing cell image data: PMC5994892](papers/PMC5994892.txt)\n",
    "\n",
    "[Targeting malaria parasite invasion of red blood cells as an antimalarial strategy: PMC6524681](papers/PMC6524681.txt)\n",
    "\n",
    "[Minimal exposure of lipid II cycle intermediates triggers cell wall antibiotic resistance: PMC6588590](papers/PMC6588590.txt)\n",
    "\n",
    "[Protein-Protein Interactions in Candida albicans: PMC6693483](papers/PMC6693483.txt)\n",
    "\n",
    "You can define your own dictionary with some terms you want to try so feel free to add any additional rules for validation. The 4 papers are ready for you to use:"
   ]
  },
  {
   "cell_type": "code",
   "execution_count": 13,
   "metadata": {},
   "outputs": [],
   "source": [
    "papers = ['papers/PMC5994892.txt', 'papers/PMC6524681.txt', \n",
    "          'papers/PMC6588590.txt', 'papers/PMC6693483.txt']\n",
    "pmc5994892 = open(papers[0], 'r').read()\n",
    "pmc6524681 = open(papers[1], 'r').read()\n",
    "pmc6588590 = open(papers[2], 'r').read()\n",
    "pmc6693483 = open(papers[3], 'r').read()"
   ]
  },
  {
   "cell_type": "markdown",
   "metadata": {},
   "source": [
    "Define your own dictionary below for one or all of the articles."
   ]
  },
  {
   "cell_type": "code",
   "execution_count": 14,
   "metadata": {},
   "outputs": [],
   "source": [
    "your_dictionary1 = {'term': {'include': {},\n",
    "                        'exclude': {}}\n",
    "              }"
   ]
  },
  {
   "cell_type": "markdown",
   "metadata": {},
   "source": [
    "Use your own dictionary to search in one article. Have a look at what you get. \n",
    "\n",
    "* Are there any unexpected terms matched or missing? \n",
    "* Can we improve our dictionary furthur?"
   ]
  },
  {
   "cell_type": "code",
   "execution_count": 139,
   "metadata": {},
   "outputs": [
    {
     "name": "stdout",
     "output_type": "stream",
     "text": [
      "one evidence found: 'term', with pre: 'great challenges in ' and post: 's of storage, retrie'\n",
      "one evidence found: 'term', with pre: 'rchiving would be de' and post: 'ined per-case based '\n",
      "one evidence found: 'term', with pre: 'iology and for long-' and post: ' maintenance of larg'\n",
      "one evidence found: 'term', with pre: 'l. \n",
      "Standard domain ' and post: 'inology, formally te'\n",
      "one evidence found: 'term', with pre: 'rminology, formally ' and post: 'ed controlled vocabu'\n",
      "one evidence found: 'term', with pre: ' sets. \n",
      "Many of the ' and post: 's in a controlled vo'\n",
      "one evidence found: 'term', with pre: 'te the data, all in ' and post: 's of the controlled '\n",
      "one evidence found: 'term', with pre: 'ould be carefully de' and post: 'ined. \n",
      "Cell image da'\n",
      "one evidence found: 'term', with pre: 'emely beneficial in ' and post: 's of reuse. \n",
      "The Cel'\n"
     ]
    }
   ],
   "source": [
    "find_evidence_final(dictionary=your_dictionary1, text=pmc5994892, chars_len=30)"
   ]
  },
  {
   "cell_type": "code",
   "execution_count": null,
   "metadata": {},
   "outputs": [],
   "source": []
  }
 ],
 "metadata": {
  "kernelspec": {
   "display_name": "Python 3",
   "language": "python",
   "name": "python3"
  },
  "language_info": {
   "codemirror_mode": {
    "name": "ipython",
    "version": 3
   },
   "file_extension": ".py",
   "mimetype": "text/x-python",
   "name": "python",
   "nbconvert_exporter": "python",
   "pygments_lexer": "ipython3",
   "version": "3.6.9"
  }
 },
 "nbformat": 4,
 "nbformat_minor": 4
}
